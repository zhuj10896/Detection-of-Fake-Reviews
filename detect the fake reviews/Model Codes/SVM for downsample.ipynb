{
 "cells": [
  {
   "cell_type": "code",
   "execution_count": 1,
   "metadata": {},
   "outputs": [
    {
     "name": "stderr",
     "output_type": "stream",
     "text": [
      "F:\\Anaconda3\\lib\\site-packages\\sklearn\\cross_validation.py:41: DeprecationWarning: This module was deprecated in version 0.18 in favor of the model_selection module into which all the refactored classes and functions are moved. Also note that the interface of the new CV iterators are different from that of this module. This module will be removed in 0.20.\n",
      "  \"This module will be removed in 0.20.\", DeprecationWarning)\n",
      "F:\\Anaconda3\\lib\\site-packages\\sklearn\\ensemble\\weight_boosting.py:29: DeprecationWarning: numpy.core.umath_tests is an internal NumPy module and should not be imported. It will be removed in a future NumPy release.\n",
      "  from numpy.core.umath_tests import inner1d\n"
     ]
    }
   ],
   "source": [
    "import numpy as np\n",
    "import pandas as pd\n",
    "import os\n",
    "%matplotlib inline\n",
    "import matplotlib\n",
    "import matplotlib.pyplot as plt\n",
    "from datetime import datetime\n",
    "import time\n",
    "import seaborn as sns\n",
    "import math\n",
    "from sklearn.linear_model import LinearRegression, Ridge, Lasso, LogisticRegression,SGDClassifier\n",
    "from sklearn.metrics import mean_squared_error, r2_score,make_scorer, confusion_matrix,classification_report,roc_auc_score\n",
    "from sklearn.utils import shuffle, resample\n",
    "from sklearn import cross_validation, metrics\n",
    "from sklearn.ensemble import RandomForestClassifier\n",
    "from sklearn.model_selection import GridSearchCV,train_test_split,cross_val_score,StratifiedKFold\n",
    "from sklearn.preprocessing import LabelEncoder,StandardScaler\n",
    "from sklearn.metrics import accuracy_score\n",
    "from sklearn import model_selection\n",
    "\n",
    "from sklearn import datasets\n",
    "from sklearn.feature_selection import RFE,RFECV,SelectFromModel\n",
    "\n",
    "from sklearn.svm import SVC,LinearSVC\n",
    "import random\n",
    "\n",
    "\n",
    "from sklearn import preprocessing\n",
    "from sklearn.model_selection import train_test_split\n",
    "from sklearn import svm\n",
    "from sklearn import metrics\n",
    "from sklearn.metrics import roc_curve, auc"
   ]
  },
  {
   "cell_type": "code",
   "execution_count": 2,
   "metadata": {
    "scrolled": true
   },
   "outputs": [
    {
     "data": {
      "text/plain": [
       "(1608, 159)"
      ]
     },
     "execution_count": 2,
     "metadata": {},
     "output_type": "execute_result"
    }
   ],
   "source": [
    "df = pd.read_csv(\"downsample (1).csv\")\n",
    "df.shape"
   ]
  },
  {
   "cell_type": "code",
   "execution_count": 3,
   "metadata": {
    "scrolled": true
   },
   "outputs": [],
   "source": [
    "df=df.fillna(0)"
   ]
  },
  {
   "cell_type": "code",
   "execution_count": 5,
   "metadata": {
    "scrolled": true
   },
   "outputs": [
    {
     "name": "stdout",
     "output_type": "stream",
     "text": [
      "    Hotel_Unique  Num_reviews  Num_likes  duplicateusertimesaggregated  \\\n",
      "0       0.222222     0.011388   0.009891                      0.000000   \n",
      "1       0.333333     0.000712   0.000000                      0.000000   \n",
      "2       0.333333     0.000712   0.000989                      0.363636   \n",
      "3       0.333333     0.028470   0.019782                      0.181818   \n",
      "4       0.111111     0.000000   0.000000                      0.000000   \n",
      "5       0.666667     0.004982   0.002473                      0.000000   \n",
      "6       0.333333     0.020641   0.004946                      0.000000   \n",
      "7       0.777778     0.017082   0.004451                      0.000000   \n",
      "8       0.222222     0.002135   0.000000                      0.000000   \n",
      "9       0.555556     0.019929   0.006924                      0.000000   \n",
      "10      0.333333     0.035587   0.007418                      0.000000   \n",
      "11      0.666667     0.049110   0.040554                      0.181818   \n",
      "12      0.888889     0.012811   0.000495                      0.000000   \n",
      "13      0.222222     0.000712   0.000000                      0.363636   \n",
      "14      0.333333     0.024199   0.005935                      0.090909   \n",
      "15      0.555556     0.011388   0.005440                      0.181818   \n",
      "16      0.888889     0.057651   0.027695                      0.363636   \n",
      "17      0.666667     0.686833   0.126113                      0.000000   \n",
      "18      0.666667     0.002135   0.000989                      0.000000   \n",
      "19      0.222222     0.046975   0.011869                      0.181818   \n",
      "\n",
      "    diff<=5  Count_Susp_words     hotel      room      stay       get  \\\n",
      "0       0.0          0.053292  0.090909  0.000000  0.071429  0.181818   \n",
      "1       0.0          0.050157  0.000000  0.136364  0.071429  0.000000   \n",
      "2       0.0          0.018809  0.000000  0.000000  0.214286  0.000000   \n",
      "3       0.0          0.040752  0.090909  0.000000  0.000000  0.000000   \n",
      "4       0.0          0.021944  0.045455  0.000000  0.000000  0.000000   \n",
      "5       0.0          0.056426  0.000000  0.000000  0.071429  0.000000   \n",
      "6       0.0          0.050157  0.000000  0.000000  0.000000  0.000000   \n",
      "7       0.0          0.106583  0.136364  0.000000  0.071429  0.000000   \n",
      "8       0.0          0.018809  0.045455  0.000000  0.214286  0.000000   \n",
      "9       0.0          0.028213  0.090909  0.000000  0.071429  0.000000   \n",
      "10      0.0          0.078370  0.181818  0.045455  0.142857  0.000000   \n",
      "11      0.0          0.018809  0.045455  0.000000  0.071429  0.000000   \n",
      "12      0.0          0.043887  0.000000  0.000000  0.071429  0.000000   \n",
      "13      0.0          0.097179  0.090909  0.000000  0.142857  0.272727   \n",
      "14      0.0          0.021944  0.000000  0.000000  0.214286  0.000000   \n",
      "15      0.0          0.137931  0.227273  0.090909  0.000000  0.000000   \n",
      "16      0.0          0.043887  0.045455  0.000000  0.000000  0.000000   \n",
      "17      0.0          0.021944  0.045455  0.000000  0.000000  0.000000   \n",
      "18      0.0          0.031348  0.045455  0.090909  0.000000  0.090909   \n",
      "19      0.0          0.090909  0.090909  0.136364  0.071429  0.000000   \n",
      "\n",
      "        ...        days  person  free  bill  view  party  housekeeping  \\\n",
      "0       ...         0.0     0.0   0.0   0.0  0.00    0.0           0.0   \n",
      "1       ...         0.0     0.0   0.0   0.0  0.00    0.0           0.0   \n",
      "2       ...         0.0     0.0   0.0   0.0  0.00    0.0           0.0   \n",
      "3       ...         0.0     0.0   0.0   0.0  0.00    0.0           0.0   \n",
      "4       ...         0.0     0.0   0.0   0.0  0.00    0.0           0.0   \n",
      "5       ...         0.0     0.0   0.0   0.0  0.00    0.0           0.0   \n",
      "6       ...         0.0     0.0   0.0   0.0  0.00    0.0           0.0   \n",
      "7       ...         0.0     0.0   0.2   0.0  0.00    0.0           0.0   \n",
      "8       ...         0.0     0.0   0.0   0.0  0.00    0.0           0.0   \n",
      "9       ...         0.0     0.0   0.0   0.0  0.00    0.0           0.0   \n",
      "10      ...         0.0     0.0   0.0   0.0  0.00    0.0           0.0   \n",
      "11      ...         0.0     0.0   0.0   0.0  0.00    0.0           0.2   \n",
      "12      ...         0.0     0.0   0.0   0.0  0.25    0.0           0.0   \n",
      "13      ...         0.0     0.0   0.0   0.0  0.00    0.0           0.0   \n",
      "14      ...         0.0     0.0   0.0   0.0  0.00    0.0           0.0   \n",
      "15      ...         0.0     0.0   0.2   0.0  0.25    0.0           0.4   \n",
      "16      ...         0.0     0.0   0.0   0.0  0.00    0.0           0.0   \n",
      "17      ...         0.0     0.0   0.0   0.0  0.00    0.0           0.0   \n",
      "18      ...         0.0     0.0   0.0   0.0  0.00    0.0           0.2   \n",
      "19      ...         0.0     0.0   0.0   0.0  0.00    0.0           0.0   \n",
      "\n",
      "    countsverbs  countsnouns  Overall_Label  \n",
      "0      0.023188     0.029412              1  \n",
      "1      0.026087     0.051471              1  \n",
      "2      0.031884     0.034314              1  \n",
      "3      0.069565     0.053922              1  \n",
      "4      0.023188     0.022059              1  \n",
      "5      0.063768     0.061275              1  \n",
      "6      0.023188     0.053922              1  \n",
      "7      0.075362     0.125000              1  \n",
      "8      0.031884     0.029412              1  \n",
      "9      0.023188     0.036765              1  \n",
      "10     0.031884     0.093137              1  \n",
      "11     0.037681     0.022059              1  \n",
      "12     0.034783     0.036765              1  \n",
      "13     0.107246     0.063725              1  \n",
      "14     0.023188     0.024510              1  \n",
      "15     0.127536     0.169118              1  \n",
      "16     0.040580     0.034314              1  \n",
      "17     0.040580     0.056373              1  \n",
      "18     0.028986     0.034314              1  \n",
      "19     0.084058     0.080882              1  \n",
      "\n",
      "[20 rows x 159 columns]\n"
     ]
    }
   ],
   "source": [
    "df1=df.iloc[:,1:]\n",
    "col=df.iloc[:,1:].values\n",
    "min_max_scaler = preprocessing.MinMaxScaler(feature_range=(0, 1))#range(0,1)\n",
    "col_scaler=min_max_scaler.fit_transform(col)\n",
    "Normalized_df=pd.DataFrame(col_scaler, columns=df1.columns)\n",
    "Normalized_df['Overall_Label']=df['Overall_Label']\n",
    "print(Normalized_df.head(20))"
   ]
  },
  {
   "cell_type": "code",
   "execution_count": 7,
   "metadata": {},
   "outputs": [],
   "source": [
    "# 2/3 training and 1/3 test\n",
    "X, y=Normalized_df.iloc[:,1:].values, Normalized_df['Overall_Label'].values\n",
    "X_train, X_test, y_train, y_test = train_test_split(X, y, test_size=0.33,random_state=None) "
   ]
  },
  {
   "cell_type": "code",
   "execution_count": 8,
   "metadata": {
    "scrolled": true
   },
   "outputs": [
    {
     "name": "stdout",
     "output_type": "stream",
     "text": [
      "[[1.94306050e-01 4.94559842e-02 0.00000000e+00 ... 2.02898551e-01\n",
      "  2.54901961e-01 0.00000000e+00]\n",
      " [2.13523132e-03 4.94559842e-04 0.00000000e+00 ... 3.47826087e-02\n",
      "  4.65686275e-02 1.00000000e+00]\n",
      " [4.98220641e-03 8.40751731e-03 0.00000000e+00 ... 8.98550725e-02\n",
      "  1.22549020e-01 1.00000000e+00]\n",
      " ...\n",
      " [1.57295374e-01 2.12660732e-02 3.63636364e-01 ... 1.44927536e-02\n",
      "  2.45098039e-02 0.00000000e+00]\n",
      " [1.20996441e-02 1.97823937e-03 0.00000000e+00 ... 1.47826087e-01\n",
      "  1.69117647e-01 0.00000000e+00]\n",
      " [1.42348754e-03 0.00000000e+00 1.81818182e-01 ... 2.89855072e-02\n",
      "  2.45098039e-02 0.00000000e+00]]\n",
      "[[9.96441281e-03 2.96735905e-03 0.00000000e+00 ... 2.02898551e-02\n",
      "  2.45098039e-02 0.00000000e+00]\n",
      " [4.27046263e-03 1.48367953e-03 0.00000000e+00 ... 6.31884058e-01\n",
      "  7.25490196e-01 1.00000000e+00]\n",
      " [7.75800712e-02 3.90702275e-02 0.00000000e+00 ... 2.00000000e-01\n",
      "  2.05882353e-01 0.00000000e+00]\n",
      " ...\n",
      " [7.11743772e-04 9.89119683e-04 9.09090909e-02 ... 1.44927536e-02\n",
      "  1.96078431e-02 0.00000000e+00]\n",
      " [7.11743772e-04 4.94559842e-04 1.81818182e-01 ... 2.02898551e-02\n",
      "  1.96078431e-02 0.00000000e+00]\n",
      " [6.26334520e-02 1.43422354e-02 0.00000000e+00 ... 3.04347826e-01\n",
      "  2.54901961e-01 0.00000000e+00]]\n",
      "[0 1 1 ... 0 0 0]\n",
      "[0 1 0 0 1 0 0 0 1 1 1 0 0 1 0 0 0 0 0 0 0 1 0 1 1 0 1 1 0 1 1 0 1 0 0 1 0\n",
      " 0 0 0 0 0 0 0 0 1 1 0 1 1 1 0 1 0 1 1 0 0 1 1 1 1 0 0 0 1 1 1 0 0 0 1 0 0\n",
      " 0 0 1 0 1 0 0 0 0 0 0 0 0 0 0 1 1 1 1 0 1 1 1 0 0 0 0 0 0 1 1 1 0 1 1 1 1\n",
      " 1 0 1 1 0 1 0 0 1 0 0 1 0 0 0 0 1 0 1 1 0 1 1 1 1 1 1 1 0 1 1 0 1 1 0 0 1\n",
      " 0 1 1 0 0 1 0 1 1 0 1 1 0 1 0 0 0 1 1 1 1 0 0 0 0 0 0 1 1 1 1 1 1 0 1 1 1\n",
      " 1 1 1 1 0 1 0 0 1 0 0 0 0 0 1 1 1 0 1 0 0 0 0 1 0 1 0 1 0 1 0 0 1 0 0 0 0\n",
      " 1 1 1 0 1 1 0 1 1 1 0 0 0 1 0 1 1 0 1 1 1 0 0 1 1 0 0 1 0 1 0 1 0 0 0 1 1\n",
      " 0 0 0 1 0 0 1 1 1 1 1 0 1 1 1 0 1 1 0 0 1 0 0 0 0 0 1 1 1 0 0 1 0 0 1 0 1\n",
      " 0 1 0 0 0 1 0 0 0 0 0 0 0 0 1 1 0 1 1 0 1 1 0 1 1 0 1 0 1 0 0 1 0 1 1 1 1\n",
      " 1 0 0 1 0 0 1 0 0 1 0 1 1 0 1 1 1 0 0 0 1 1 1 1 0 0 0 0 0 1 0 1 1 1 1 0 1\n",
      " 1 0 1 1 1 1 0 1 0 0 0 1 1 0 0 0 0 1 0 1 0 1 0 0 1 0 0 1 1 1 1 0 1 0 0 1 0\n",
      " 0 0 0 1 0 0 0 1 1 1 1 0 1 1 1 0 0 0 0 1 0 1 1 0 0 1 1 1 0 1 0 1 0 0 1 1 1\n",
      " 0 0 1 1 0 0 0 1 0 0 0 0 0 0 1 0 0 1 0 0 0 0 1 1 1 1 1 1 1 1 0 0 1 1 1 1 1\n",
      " 0 1 0 1 0 0 1 0 0 0 0 0 1 0 0 1 1 0 0 1 1 0 0 0 0 0 0 0 0 0 1 1 1 0 0 1 0\n",
      " 1 0 1 1 0 1 1 1 1 1 0 0 0]\n"
     ]
    }
   ],
   "source": [
    "print(X_train)\n",
    "print(X_test)\n",
    "print(y_train)\n",
    "print(y_test)"
   ]
  },
  {
   "cell_type": "code",
   "execution_count": 11,
   "metadata": {},
   "outputs": [
    {
     "name": "stdout",
     "output_type": "stream",
     "text": [
      "Accuracy: 1.0\n"
     ]
    }
   ],
   "source": [
    "# Linear Kernel\n",
    "svm = svm.SVC(kernel='linear', probability=True,random_state=0)\n",
    "svm.fit(X_train, y_train)\n",
    "y_pred = svm.predict(X_test)\n",
    "print(\"Accuracy:\",metrics.accuracy_score(y_test, y_pred))"
   ]
  },
  {
   "cell_type": "code",
   "execution_count": 12,
   "metadata": {},
   "outputs": [
    {
     "name": "stdout",
     "output_type": "stream",
     "text": [
      "[[277   0]\n",
      " [  0 254]]\n"
     ]
    }
   ],
   "source": [
    "Confusion_matrix=confusion_matrix(y_test, y_pred)\n",
    "print(Confusion_matrix)"
   ]
  },
  {
   "cell_type": "code",
   "execution_count": 13,
   "metadata": {},
   "outputs": [],
   "source": [
    "y_score = svm.fit(X_train, y_train).decision_function(X_test)"
   ]
  },
  {
   "cell_type": "code",
   "execution_count": 14,
   "metadata": {
    "scrolled": true
   },
   "outputs": [
    {
     "name": "stdout",
     "output_type": "stream",
     "text": [
      "[-1.00004914  1.00067741 -0.99965657 -1.00108218  1.00011417 -1.00067859\n",
      " -0.99999753 -0.99961071  0.9994226   1.00012317  1.000189   -1.00024212\n",
      " -1.00005783  1.00016262 -1.00087145 -0.99994442 -0.9982882  -0.999512\n",
      " -1.00082585 -0.99983065 -1.00010891  0.99997975 -0.99972127  1.0005796\n",
      "  0.99945386 -1.00053421  0.99964565  1.0001123  -1.00016418  0.99974988\n",
      "  1.0002943  -1.00085049  1.00018861 -1.00060351 -1.00064865  0.99841463\n",
      " -0.99979826 -1.00031213 -1.00072026 -1.00027309 -0.99985612 -1.00138078\n",
      " -1.00092053 -0.99981926 -1.00007948  1.0004549   1.00015492 -1.00052426\n",
      "  1.00037261  1.00022505  1.00036518 -0.99990638  0.99970776 -1.00009903\n",
      "  1.00077568  1.00005036 -0.99938425 -1.00000354  1.00086992  1.00022489\n",
      "  0.99897806  1.00025465 -1.00030614 -0.99997884 -1.00060295  1.00020785\n",
      "  0.99998827  1.00042417 -0.99977373 -1.00028002 -1.00074707  1.00039864\n",
      " -0.99964584 -1.00074137 -1.00055524 -1.00153551  1.00037897 -1.00046359\n",
      "  0.99987047 -1.0008939  -1.00094814 -0.99969275 -1.00071722 -1.0000801\n",
      " -0.99907548 -1.00012591 -1.00002811 -1.00108147 -1.00059489  1.00034312\n",
      "  1.0001096   1.00006585  1.00001295 -1.0009966   1.00037991  1.00045547\n",
      "  0.99985389 -0.99990826 -0.99998401 -0.99994801 -1.00150914 -1.00108911\n",
      " -1.00086983  1.00029318  1.00038227  1.00035917 -1.00127274  0.99992449\n",
      "  1.00061162  1.00093518  1.0013948   1.00060615 -1.00005583  1.00018935\n",
      "  0.99980374 -0.99981304  1.00019224 -1.00035289 -1.0004016   1.00047473\n",
      " -1.00027546 -1.00000748  0.9994577  -1.00045127 -0.99985466 -1.00020655\n",
      " -1.00039245  1.00014982 -1.00444176  0.99993247  0.99993737 -1.0012641\n",
      "  1.00030435  0.99981604  1.00021349  1.00058401  1.0004005   1.00030136\n",
      "  1.0002712  -1.00027813  1.00042413  1.00005215 -1.0005878   1.00014129\n",
      "  1.00027892 -1.00162419 -1.00027944  1.00002915 -1.00012941  1.00030641\n",
      "  1.00097473 -1.00004931 -1.00059172  1.00004319 -0.99953465  1.00000723\n",
      "  0.99993409 -1.00011681  0.99902685  1.00041334 -1.00012246  1.00002779\n",
      " -1.00095648 -1.0006537  -1.00048272  1.00054346  1.00000537  1.00029088\n",
      "  1.0000521  -0.99997743 -1.00029331 -1.00070012 -0.99993187 -1.00044433\n",
      " -1.00034302  1.00080304  1.0006032   1.00011728  1.00059089  1.00018142\n",
      "  1.00027989 -0.99999217  1.00053545  1.00025371  1.00047211  1.0002858\n",
      "  0.99994945  1.00027828  1.00012236 -1.00000118  1.00019137 -0.99982928\n",
      " -0.99990251  1.00030078 -0.99968385 -0.99997914 -1.00080469 -1.00062817\n",
      " -1.00018261  1.00060136  1.0002938   1.00033471 -1.00142958  1.00008615\n",
      " -1.00002424 -1.00035312 -1.00024945 -1.00013693  1.00012037 -0.99970212\n",
      "  0.99989232 -1.00009228  1.00027152 -1.00094084  1.00011479 -0.99979493\n",
      " -1.00005926  1.00066713 -1.00009705 -1.00094996 -1.00036398 -1.00018637\n",
      "  1.00029295  0.99993342  1.00025392 -1.00295622  1.00013479  0.99991365\n",
      " -1.0000439   1.00034085  1.00007156  0.99971636 -1.00027307 -0.99988839\n",
      " -1.00031813  0.99960145 -1.00005722  1.00012263  1.00066001 -1.00015378\n",
      "  1.0001903   1.00047322  1.00032978 -1.00025035 -1.00064222  0.99965495\n",
      "  1.00023414 -1.00020342 -1.00053489  0.99946638 -0.99963918  1.00045663\n",
      " -1.00024918  1.00054988 -1.00027236 -0.99941925 -0.9992121   1.00037689\n",
      "  1.00010549 -1.00003419 -1.00159958 -1.00047292  1.00000993 -1.00006959\n",
      " -1.00021714  0.99989025  0.99986449  1.0003963   1.00063999  0.99994941\n",
      " -1.00028002  1.00021622  0.99959757  0.99955939 -1.00476242  1.00038014\n",
      "  1.00031915 -1.00078954 -1.00044965  0.99959099 -0.9995678  -1.00044162\n",
      " -1.00034696 -1.00243574 -1.00038191  1.00029032  1.00070427  1.00065226\n",
      " -0.99980977 -1.00020297  1.00068849 -1.00003255 -0.99975039  1.00033344\n",
      " -1.00022555  1.00017292 -1.00033764  1.00060788 -1.00075206 -1.00174299\n",
      " -1.00004974  1.00090546 -0.99984049 -1.00024629 -0.99967195 -0.99999938\n",
      " -0.99972424 -1.00015189 -1.00002319 -1.00148573  0.99950517  1.00030804\n",
      " -1.00040036  1.00000689  1.00039611 -1.00000492  1.00013799  1.00036091\n",
      " -1.00027699  1.00019674  1.00029031 -1.00042417  1.00031294 -1.00024028\n",
      "  1.0007726  -0.99990325 -1.00030975  1.00044378 -1.00014967  0.99982495\n",
      "  1.00008099  0.99995215  1.000352    0.99982042 -1.00054291 -1.00085261\n",
      "  1.00014017 -1.00029853 -0.99967875  1.00015262 -0.99990326 -1.00182367\n",
      "  0.9999346  -1.0005576   1.00015824  1.00019258 -0.99993585  1.00101451\n",
      "  1.00007371  1.00062508 -0.99979195 -1.00042321 -0.9997285   0.99950095\n",
      "  1.00024136  1.00045477  1.00017491 -0.99903564 -1.00007424 -1.00028704\n",
      " -0.99998536 -1.00083802  1.00086476 -1.00041634  1.00059449  0.99991137\n",
      "  1.00016992  1.00056823 -0.99971934  1.00047171  1.00053829 -1.00012733\n",
      "  0.99989511  1.00079342  1.00047669  1.00069991 -1.0004755   1.00022081\n",
      " -1.00078788 -1.00020413 -1.00171568  1.00020941  1.00002718 -0.99994448\n",
      " -1.00046179 -0.99993566 -1.00006288  1.00076724 -0.99898419  1.0000915\n",
      " -1.00009347  1.00009759 -1.00100635 -0.99994598  1.00014243 -1.00031198\n",
      " -1.00049607  1.00025749  0.99992261  1.00060629  1.0001601  -1.00010514\n",
      "  1.00019166 -0.9998335  -1.00007521  1.00010528 -1.00014178 -1.00048691\n",
      " -1.00057006 -1.00004423  0.9999709  -1.00038907 -1.00076154 -1.00019605\n",
      "  0.99999556  1.00013656  1.00033794  1.00027842 -1.00100622  1.00010672\n",
      "  1.00033647  1.00045055 -0.99968125 -1.00034356 -1.00006893 -1.00076769\n",
      "  0.99985005 -0.99984443  0.99983463  1.00026792 -1.00016103 -1.00181892\n",
      "  0.99990376  1.00025679  1.00000605 -1.00021719  0.99996255 -1.00005332\n",
      "  0.99998817 -0.99953587 -1.00041604  0.99988481  1.0001558   1.00023753\n",
      " -1.00026092 -1.00076557  0.9994342   1.00041395 -0.9999432  -1.00023878\n",
      " -1.00036692  1.00031583 -1.0000283  -1.00007755 -1.00101857 -1.00061837\n",
      " -1.00088995 -0.99942308  1.00021819 -1.00016149 -0.99998414  1.00029696\n",
      " -0.99998361 -0.99957655 -1.00001603 -0.99956872  1.00092164  0.99994216\n",
      "  0.99947532  1.0004742   1.0006717   1.00018844  1.00012549  0.99992961\n",
      " -1.0003957  -1.00091502  1.00015475  1.00038006  1.00007528  1.00033113\n",
      "  0.99954334 -0.99988224  1.00040638 -1.00164392  1.00047743 -0.99968938\n",
      " -1.00079191  1.00022298 -1.0024353  -1.00053704 -0.99990478 -1.00095792\n",
      " -1.00092773  1.00035697 -0.99991962 -1.00023219  1.00114601  0.99884747\n",
      " -1.00014158 -1.00027055  0.99952491  1.00021637 -1.00133199 -1.00016607\n",
      " -0.99980598 -1.00490944 -1.00005146 -0.99984679 -1.00050028 -1.00034993\n",
      " -0.99999984  1.00071886  0.99992207  1.00028359 -1.00019744 -1.00193137\n",
      "  1.00033125 -0.99999758  0.99830695 -0.99981301  1.00015804  1.00020896\n",
      " -1.00079898  1.00017155  0.99992639  1.00001607  1.00022369  1.00055816\n",
      " -0.99994386 -1.00030236 -1.00059974]\n"
     ]
    }
   ],
   "source": [
    "print(y_score)"
   ]
  },
  {
   "cell_type": "code",
   "execution_count": 15,
   "metadata": {},
   "outputs": [],
   "source": [
    "fpr,tpr,threshold = roc_curve(y_test, y_score) \n",
    "roc_auc = auc(fpr,tpr)"
   ]
  },
  {
   "cell_type": "code",
   "execution_count": 16,
   "metadata": {},
   "outputs": [
    {
     "data": {
      "text/plain": [
       "<Figure size 432x288 with 0 Axes>"
      ]
     },
     "metadata": {},
     "output_type": "display_data"
    },
    {
     "data": {
      "image/png": "[encoded data removed]",
      "text/plain": [
       "<Figure size 720x720 with 1 Axes>"
      ]
     },
     "metadata": {},
     "output_type": "display_data"
    }
   ],
   "source": [
    "plt.figure()\n",
    "lw = 2\n",
    "plt.figure(figsize=(10,10))\n",
    "plt.plot(fpr, tpr, color='darkorange',\n",
    "         lw=lw, label='ROC curve (area = %0.2f)' % roc_auc) ###假正率为横坐标，真正率为纵坐标做曲线\n",
    "plt.plot([0, 1], [0, 1], color='navy', lw=lw, linestyle='--')\n",
    "plt.xlim([0.0, 1.0])\n",
    "plt.ylim([0.0, 1.05])\n",
    "plt.xlabel('False Positive Rate')\n",
    "plt.ylabel('True Positive Rate')\n",
    "plt.title('Receiver operating characteristic example')\n",
    "plt.legend(loc=\"lower right\")\n",
    "plt.show()"
   ]
  }
 ],
 "metadata": {
  "kernelspec": {
   "display_name": "Python 3",
   "language": "python",
   "name": "python3"
  },
  "language_info": {
   "codemirror_mode": {
    "name": "ipython",
    "version": 3
   },
   "file_extension": ".py",
   "mimetype": "text/x-python",
   "name": "python",
   "nbconvert_exporter": "python",
   "pygments_lexer": "ipython3",
   "version": "3.6.5"
  }
 },
 "nbformat": 4,
 "nbformat_minor": 2
}
