{
 "cells": [
  {
   "cell_type": "code",
   "execution_count": 6,
   "metadata": {},
   "outputs": [],
   "source": [
    "from sklearn import preprocessing\n",
    "from sklearn.cross_validation import train_test_split\n",
    "import pandas as pd"
   ]
  },
  {
   "cell_type": "code",
   "execution_count": 7,
   "metadata": {},
   "outputs": [],
   "source": [
    "df = pd.read_csv('Hotel_Unique_Complete.csv')"
   ]
  },
  {
   "cell_type": "code",
   "execution_count": 8,
   "metadata": {},
   "outputs": [],
   "source": [
    "df = pd.read_csv('Hotel_Unique_Complete.csv')\n",
    "df = df.fillna(0)\n",
    "numeric_DF = df._get_numeric_data()\n",
    "x = numeric_DF.values\n",
    "min_max_scaler = preprocessing.MinMaxScaler(feature_range=(0, 1))\n",
    "x_scaled = min_max_scaler.fit_transform(x)\n",
    "numeric_DF = pd.DataFrame(x_scaled,columns = numeric_DF.columns)"
   ]
  },
  {
   "cell_type": "code",
   "execution_count": 9,
   "metadata": {},
   "outputs": [],
   "source": [
    "X,y = numeric_DF.iloc[:,:-1].values, numeric_DF[\"Overall_Label\"].values\n",
    "X_train, X_test, y_train, y_test = train_test_split(X, y, test_size = 0.33, random_state = 0,stratify=y)"
   ]
  },
  {
   "cell_type": "code",
   "execution_count": 16,
   "metadata": {},
   "outputs": [
    {
     "name": "stdout",
     "output_type": "stream",
     "text": [
      "    LevelLimit  Score for Training  Score for Testing\n",
      "1          1.0            0.949823           0.949915\n",
      "2          2.0            0.949823           0.949915\n",
      "3          3.0            0.950195           0.949915\n",
      "4          4.0            0.951685           0.948592\n",
      "5          5.0            0.953454           0.948214\n",
      "6          6.0            0.955595           0.946135\n",
      "7          7.0            0.958388           0.943300\n",
      "8          8.0            0.961180           0.941410\n",
      "9          9.0            0.964532           0.939520\n",
      "10        10.0            0.967045           0.934795\n",
      "11        11.0            0.970210           0.929314\n",
      "12        12.0            0.973096           0.931960\n",
      "13        13.0            0.975982           0.924778\n",
      "14        14.0            0.978961           0.927046\n",
      "15        15.0            0.980357           0.922132\n",
      "16        16.0            0.983057           0.922699\n",
      "17        17.0            0.985478           0.922510\n",
      "18        18.0            0.987153           0.920620\n",
      "19        19.0            0.989294           0.919108\n",
      "20        20.0            0.990784           0.915706\n",
      "21        21.0            0.991622           0.916084\n",
      "22        22.0            0.993111           0.917218\n",
      "23        23.0            0.993949           0.916462\n",
      "24        24.0            0.994321           0.916462\n",
      "25        25.0            0.994694           0.917974\n",
      "26        26.0            0.994973           0.915895\n",
      "27        27.0            0.995718           0.920053\n",
      "28        28.0            0.995997           0.918541\n",
      "29        29.0            0.996090           0.915706\n",
      "30        30.0            0.996183           0.917029\n",
      "31        31.0            0.996183           0.917407\n",
      "32        32.0            0.996183           0.914572\n",
      "33        33.0            0.996276           0.916840\n",
      "34        34.0            0.996649           0.915328\n",
      "35        35.0            0.997300           0.914005\n",
      "36        36.0            0.998231           0.911737\n",
      "37        37.0            0.998790           0.915706\n",
      "38        38.0            0.999069           0.915328\n",
      "39        39.0            0.999255           0.915517\n",
      "AxesSubplot(0.125,0.125;0.775x0.755)\n"
     ]
    },
    {
     "data": {
      "image/png": "[encoded data removed]",
      "text/plain": [
       "<Figure size 432x288 with 1 Axes>"
      ]
     },
     "metadata": {},
     "output_type": "display_data"
    }
   ],
   "source": [
    "from sklearn.tree import DecisionTreeClassifier\n",
    "\n",
    "resultsEntropy=pd.DataFrame(columns=['LevelLimit','Score for Training','Score for Testing'])\n",
    "for treeDepth in range(1,40):\n",
    "    dct=DecisionTreeClassifier(criterion='entropy', max_depth=treeDepth, random_state=0)\n",
    "    dct=dct.fit(X_train, y_train)\n",
    "    dct.predict(X_test)\n",
    "    scoreTrain=dct.score(X_train, y_train)\n",
    "    scoreTest=dct.score(X_test,y_test)\n",
    "    resultsEntropy.loc[treeDepth]=[treeDepth,scoreTrain,scoreTest]\n",
    "    \n",
    "print(resultsEntropy.head(40))\n",
    "resultsEntropy.pop('LevelLimit')\n",
    "ax=resultsEntropy.plot()\n",
    "print (ax)\n",
    "    "
   ]
  },
  {
   "cell_type": "code",
   "execution_count": 40,
   "metadata": {},
   "outputs": [
    {
     "name": "stdout",
     "output_type": "stream",
     "text": [
      "\n",
      " Mean Accuracy on Training Samples: 0.9992552597281698\n",
      "\n",
      " Mean Accuracy on Testing Samples: 0.9155169155169155\n",
      "             precision    recall  f1-score   support\n",
      "\n",
      "        0.0       0.16      0.03      0.05       265\n",
      "        1.0       0.95      0.99      0.97      5026\n",
      "\n",
      "avg / total       0.91      0.94      0.92      5291\n",
      "\n",
      "[[   8  257]\n",
      " [  43 4983]]\n"
     ]
    }
   ],
   "source": [
    "from sklearn.metrics import confusion_matrix, classification_report\n",
    "dct=DecisionTreeClassifier(criterion='entropy',max_depth=7,random_state=0)\n",
    "dct=dct.fit(X_train,y_train)\n",
    "dct_pred=dct.predict(X_test)\n",
    "scoretest=dct.score(X_test,y_test)\n",
    "scoretrain=dct.score(X_train, y_train)\n",
    "print('\\n','Mean Accuracy on Training Samples:',scoreTrain)\n",
    "print('\\n','Mean Accuracy on Testing Samples:',scoreTest)\n",
    "print(classification_report(y_test,dct_pred))\n",
    "print(confusion_matrix(y_test,dct_pred))"
   ]
  },
  {
   "cell_type": "code",
   "execution_count": 32,
   "metadata": {},
   "outputs": [
    {
     "data": {
      "text/plain": [
       "5291"
      ]
     },
     "execution_count": 32,
     "metadata": {},
     "output_type": "execute_result"
    }
   ],
   "source": [
    "len(X_test)"
   ]
  },
  {
   "cell_type": "code",
   "execution_count": 33,
   "metadata": {},
   "outputs": [
    {
     "data": {
      "text/plain": [
       "5291"
      ]
     },
     "execution_count": 33,
     "metadata": {},
     "output_type": "execute_result"
    }
   ],
   "source": [
    "len(y_test)"
   ]
  },
  {
   "cell_type": "code",
   "execution_count": 37,
   "metadata": {},
   "outputs": [
    {
     "data": {
      "text/plain": [
       "5026.0"
      ]
     },
     "execution_count": 37,
     "metadata": {},
     "output_type": "execute_result"
    }
   ],
   "source": [
    "sum(y_test)"
   ]
  },
  {
   "cell_type": "code",
   "execution_count": 38,
   "metadata": {},
   "outputs": [
    {
     "data": {
      "text/plain": [
       "10203.0"
      ]
     },
     "execution_count": 38,
     "metadata": {},
     "output_type": "execute_result"
    }
   ],
   "source": [
    "sum(y_train)"
   ]
  },
  {
   "cell_type": "code",
   "execution_count": 39,
   "metadata": {},
   "outputs": [
    {
     "data": {
      "text/plain": [
       "10742"
      ]
     },
     "execution_count": 39,
     "metadata": {},
     "output_type": "execute_result"
    }
   ],
   "source": [
    "len(X_train)"
   ]
  },
  {
   "cell_type": "code",
   "execution_count": null,
   "metadata": {},
   "outputs": [],
   "source": []
  }
 ],
 "metadata": {
  "kernelspec": {
   "display_name": "Python 3",
   "language": "python",
   "name": "python3"
  },
  "language_info": {
   "codemirror_mode": {
    "name": "ipython",
    "version": 3
   },
   "file_extension": ".py",
   "mimetype": "text/x-python",
   "name": "python",
   "nbconvert_exporter": "python",
   "pygments_lexer": "ipython3",
   "version": "3.6.5"
  }
 },
 "nbformat": 4,
 "nbformat_minor": 2
}
