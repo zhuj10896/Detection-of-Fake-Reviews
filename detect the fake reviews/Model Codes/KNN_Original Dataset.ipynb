{
 "cells": [
  {
   "cell_type": "code",
   "execution_count": 3,
   "metadata": {},
   "outputs": [
    {
     "name": "stderr",
     "output_type": "stream",
     "text": [
      "/anaconda3/lib/python3.6/site-packages/sklearn/cross_validation.py:41: DeprecationWarning: This module was deprecated in version 0.18 in favor of the model_selection module into which all the refactored classes and functions are moved. Also note that the interface of the new CV iterators are different from that of this module. This module will be removed in 0.20.\n",
      "  \"This module will be removed in 0.20.\", DeprecationWarning)\n"
     ]
    }
   ],
   "source": [
    "from sklearn import preprocessing\n",
    "from sklearn.cross_validation import train_test_split"
   ]
  },
  {
   "cell_type": "code",
   "execution_count": 4,
   "metadata": {},
   "outputs": [],
   "source": [
    "import pandas as pd\n",
    "\n",
    "df = pd.read_csv('Hotel_Unique_Complete.csv')"
   ]
  },
  {
   "cell_type": "code",
   "execution_count": 5,
   "metadata": {},
   "outputs": [],
   "source": [
    "df = pd.read_csv('Hotel_Unique_Complete.csv')\n",
    "df = df.fillna(0)\n",
    "numeric_DF = df._get_numeric_data()\n",
    "x = numeric_DF.values\n",
    "min_max_scaler = preprocessing.MinMaxScaler(feature_range=(0, 1))\n",
    "x_scaled = min_max_scaler.fit_transform(x)\n",
    "numeric_DF = pd.DataFrame(x_scaled,columns = numeric_DF.columns)"
   ]
  },
  {
   "cell_type": "code",
   "execution_count": 6,
   "metadata": {},
   "outputs": [],
   "source": [
    "#Splitting dataset into testing and training\n",
    "X,y = numeric_DF.iloc[:,:-1].values, numeric_DF[\"Overall_Label\"].values\n",
    "X_train, X_test, y_train, y_test = train_test_split(X, y, test_size = 0.33, random_state = 0,stratify=y)"
   ]
  },
  {
   "cell_type": "code",
   "execution_count": 7,
   "metadata": {},
   "outputs": [
    {
     "data": {
      "text/plain": [
       "KNeighborsClassifier(algorithm='auto', leaf_size=30, metric='minkowski',\n",
       "           metric_params=None, n_jobs=1, n_neighbors=5, p=2,\n",
       "           weights='uniform')"
      ]
     },
     "execution_count": 7,
     "metadata": {},
     "output_type": "execute_result"
    }
   ],
   "source": [
    "#Testing kNN classifiers with Euclidean distance, k=5\n",
    "from sklearn.neighbors import KNeighborsClassifier\n",
    "knn = KNeighborsClassifier(n_neighbors=5, p=2, metric = 'minkowski')\n",
    "knn.fit(X_train, y_train)"
   ]
  },
  {
   "cell_type": "code",
   "execution_count": 32,
   "metadata": {},
   "outputs": [
    {
     "name": "stdout",
     "output_type": "stream",
     "text": [
      "   KNN  Score for Training  Score for Testing\n",
      "1  1.0            1.000000           0.929125\n",
      "2  2.0            0.974679           0.906634\n",
      "3  3.0            0.954385           0.948403\n",
      "4  4.0            0.953919           0.946513\n",
      "AxesSubplot(0.125,0.125;0.775x0.755)\n"
     ]
    },
    {
     "data": {
      "image/png": "[encoded data removed]",
      "text/plain": [
       "<Figure size 432x288 with 1 Axes>"
      ]
     },
     "metadata": {},
     "output_type": "display_data"
    }
   ],
   "source": [
    "#Testing KNN classifiers with different k values \n",
    "resultsKNN_1 = pd.DataFrame(columns=['KNN','Score for Training','Score for Testing'])\n",
    "for knnCount in range(1,5):\n",
    "    knn = KNeighborsClassifier(n_neighbors=knnCount, p=2, metric = 'minkowski')\n",
    "    knn.fit(X_train, y_train)\n",
    "    predicted = knn.predict(X_test)\n",
    "    scoreTrain = knn.score(X_train, y_train)\n",
    "    scoreTest = knn.score(X_test, y_test)\n",
    "    resultsKNN_1.loc[knnCount]=[knnCount,scoreTrain,scoreTest]\n",
    "    \n",
    "print (resultsKNN_1)\n",
    "resultsKNN_1.pop('KNN')\n",
    "ax_KNN_1 = resultsKNN_1.plot()\n",
    "print(ax_KNN_1)"
   ]
  },
  {
   "cell_type": "code",
   "execution_count": 33,
   "metadata": {},
   "outputs": [
    {
     "name": "stdout",
     "output_type": "stream",
     "text": [
      "\n",
      " Mean Accuracy on Training Samples: 1.0\n",
      "\n",
      " Mean Accuracy on Testing Samples: 0.9484029484029484\n",
      "             precision    recall  f1-score   support\n",
      "\n",
      "        0.0       0.36      0.04      0.07       265\n",
      "        1.0       0.95      1.00      0.97      5026\n",
      "\n",
      "avg / total       0.92      0.95      0.93      5291\n",
      "\n",
      "[[  10  255]\n",
      " [  18 5008]]\n"
     ]
    }
   ],
   "source": [
    "#Deriving confusion matrix and F1 score\n",
    "from sklearn.metrics import confusion_matrix, classification_report\n",
    "knn=KNeighborsClassifier(n_neighbors=3,p=2,metric='minkowski',weights='distance')\n",
    "knn.fit(X_train,y_train)\n",
    "knn_pred=knn.predict(X_test)\n",
    "scoreTrain=knn.score(X_train,y_train)\n",
    "print('\\n','Mean Accuracy on Training Samples:',scoreTrain)\n",
    "scoreTest=knn.score(X_test,y_test)\n",
    "print('\\n','Mean Accuracy on Testing Samples:',scoreTest)\n",
    "print(classification_report(y_test,knn_pred))\n",
    "print(confusion_matrix(y_test,knn_pred))"
   ]
  },
  {
   "cell_type": "code",
   "execution_count": 27,
   "metadata": {},
   "outputs": [
    {
     "name": "stdout",
     "output_type": "stream",
     "text": [
      "AxesSubplot(0.125,0.125;0.62x0.755)\n"
     ]
    },
    {
     "data": {
      "image/png": "[encoded data removed]",
      "text/plain": [
       "<Figure size 432x288 with 2 Axes>"
      ]
     },
     "metadata": {},
     "output_type": "display_data"
    }
   ],
   "source": [
    "from sklearn.metrics import confusion_matrix\n",
    "import seaborn as sns\n",
    "\n",
    "predicted = knn.predict(X_test)\n",
    "cm = pd.DataFrame(confusion_matrix(y_test, predicted))\n",
    "ax = sns.heatmap(cm, annot=True,vmax=0,vmin=1000)\n",
    "print (ax)"
   ]
  },
  {
   "cell_type": "code",
   "execution_count": 31,
   "metadata": {},
   "outputs": [
    {
     "name": "stdout",
     "output_type": "stream",
     "text": [
      "[[  10  255]\n",
      " [  18 5008]]\n"
     ]
    }
   ],
   "source": [
    "print(confusion_matrix(y_test, knn_pred))"
   ]
  },
  {
   "cell_type": "code",
   "execution_count": null,
   "metadata": {},
   "outputs": [],
   "source": []
  }
 ],
 "metadata": {
  "kernelspec": {
   "display_name": "Python 3",
   "language": "python",
   "name": "python3"
  },
  "language_info": {
   "codemirror_mode": {
    "name": "ipython",
    "version": 3
   },
   "file_extension": ".py",
   "mimetype": "text/x-python",
   "name": "python",
   "nbconvert_exporter": "python",
   "pygments_lexer": "ipython3",
   "version": "3.6.5"
  }
 },
 "nbformat": 4,
 "nbformat_minor": 2
}
