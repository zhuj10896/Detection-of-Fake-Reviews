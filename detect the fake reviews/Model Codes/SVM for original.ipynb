{
 "cells": [
  {
   "cell_type": "code",
   "execution_count": 1,
   "metadata": {},
   "outputs": [
    {
     "name": "stderr",
     "output_type": "stream",
     "text": [
      "F:\\Anaconda3\\lib\\site-packages\\sklearn\\cross_validation.py:41: DeprecationWarning: This module was deprecated in version 0.18 in favor of the model_selection module into which all the refactored classes and functions are moved. Also note that the interface of the new CV iterators are different from that of this module. This module will be removed in 0.20.\n",
      "  \"This module will be removed in 0.20.\", DeprecationWarning)\n",
      "F:\\Anaconda3\\lib\\site-packages\\sklearn\\ensemble\\weight_boosting.py:29: DeprecationWarning: numpy.core.umath_tests is an internal NumPy module and should not be imported. It will be removed in a future NumPy release.\n",
      "  from numpy.core.umath_tests import inner1d\n"
     ]
    }
   ],
   "source": [
    "import numpy as np\n",
    "import pandas as pd\n",
    "import os\n",
    "%matplotlib inline\n",
    "import matplotlib\n",
    "import matplotlib.pyplot as plt\n",
    "from datetime import datetime\n",
    "import time\n",
    "import seaborn as sns\n",
    "import math\n",
    "from sklearn.linear_model import LinearRegression, Ridge, Lasso, LogisticRegression,SGDClassifier\n",
    "from sklearn.metrics import mean_squared_error, r2_score,make_scorer, confusion_matrix,classification_report,roc_auc_score\n",
    "from sklearn.utils import shuffle, resample\n",
    "from sklearn import cross_validation, metrics\n",
    "from sklearn.ensemble import RandomForestClassifier\n",
    "from sklearn.model_selection import GridSearchCV,train_test_split,cross_val_score,StratifiedKFold\n",
    "from sklearn.preprocessing import LabelEncoder,StandardScaler\n",
    "from sklearn.metrics import accuracy_score\n",
    "from sklearn import model_selection\n",
    "\n",
    "from sklearn import datasets\n",
    "from sklearn.feature_selection import RFE,RFECV,SelectFromModel\n",
    "\n",
    "from sklearn.svm import SVC,LinearSVC\n",
    "import random\n",
    "\n",
    "import pandas as pd\n",
    "from sklearn import preprocessing\n",
    "from sklearn.model_selection import train_test_split\n",
    "from sklearn import svm\n",
    "from sklearn import metrics\n",
    "from sklearn.metrics import roc_curve, auc"
   ]
  },
  {
   "cell_type": "code",
   "execution_count": 2,
   "metadata": {
    "scrolled": true
   },
   "outputs": [
    {
     "data": {
      "text/plain": [
       "(16033, 158)"
      ]
     },
     "execution_count": 2,
     "metadata": {},
     "output_type": "execute_result"
    }
   ],
   "source": [
    "df = pd.read_csv(\"Hotel_Unique_Complete.csv\")\n",
    "df.shape"
   ]
  },
  {
   "cell_type": "code",
   "execution_count": 3,
   "metadata": {
    "scrolled": true
   },
   "outputs": [],
   "source": [
    "df=df.fillna(0)"
   ]
  },
  {
   "cell_type": "code",
   "execution_count": 5,
   "metadata": {
    "scrolled": true
   },
   "outputs": [
    {
     "name": "stdout",
     "output_type": "stream",
     "text": [
      "    Num_reviews  Num_likes  duplicateusertimesaggregated  diff<=5  \\\n",
      "0      0.001070   0.000374                      0.272727      0.0   \n",
      "1      0.022825   0.015333                      0.090909      0.0   \n",
      "2      0.000713   0.000748                      0.000000      0.0   \n",
      "3      0.001070   0.000374                      0.000000      0.0   \n",
      "4      0.001427   0.002618                      0.000000      0.0   \n",
      "5      0.028174   0.013089                      0.000000      0.0   \n",
      "6      0.000357   0.000374                      0.090909      0.0   \n",
      "7      0.143723   0.039641                      0.181818      0.0   \n",
      "8      0.004636   0.003366                      0.000000      0.0   \n",
      "9      0.000357   0.000000                      0.000000      0.0   \n",
      "10     0.005350   0.001870                      0.000000      0.0   \n",
      "11     0.000713   0.000374                      0.000000      0.0   \n",
      "12     0.036377   0.013463                      0.000000      0.0   \n",
      "13     0.007489   0.002618                      0.000000      0.0   \n",
      "14     0.016405   0.010471                      0.000000      0.0   \n",
      "15     0.024964   0.009349                      0.181818      0.0   \n",
      "16     0.073110   0.028048                      0.272727      0.0   \n",
      "17     0.018902   0.020194                      0.000000      0.0   \n",
      "18     0.006776   0.003740                      0.000000      0.0   \n",
      "19     0.153352   0.112939                      0.181818      0.0   \n",
      "\n",
      "    Count_Susp_words     hotel      room      stay       get     would  \\\n",
      "0           0.034286  0.090909  0.000000  0.071429  0.000000  0.000000   \n",
      "1           0.011429  0.000000  0.000000  0.000000  0.000000  0.071429   \n",
      "2           0.040000  0.045455  0.000000  0.071429  0.000000  0.000000   \n",
      "3           0.031429  0.090909  0.000000  0.071429  0.000000  0.000000   \n",
      "4           0.048571  0.090909  0.045455  0.071429  0.000000  0.000000   \n",
      "5           0.228571  0.227273  0.136364  0.142857  0.000000  0.071429   \n",
      "6           0.002857  0.000000  0.000000  0.000000  0.000000  0.071429   \n",
      "7           0.031429  0.090909  0.000000  0.071429  0.000000  0.000000   \n",
      "8           0.068571  0.090909  0.045455  0.142857  0.000000  0.000000   \n",
      "9           0.025714  0.000000  0.000000  0.000000  0.000000  0.071429   \n",
      "10          0.148571  0.136364  0.090909  0.142857  0.166667  0.214286   \n",
      "11          0.034286  0.045455  0.045455  0.000000  0.083333  0.000000   \n",
      "12          0.042857  0.045455  0.000000  0.000000  0.000000  0.000000   \n",
      "13          0.074286  0.136364  0.136364  0.071429  0.000000  0.000000   \n",
      "14          0.142857  0.090909  0.181818  0.000000  0.000000  0.071429   \n",
      "15          0.262857  0.227273  0.227273  0.214286  0.333333  0.071429   \n",
      "16          0.180000  0.181818  0.000000  0.214286  0.250000  0.000000   \n",
      "17          0.042857  0.090909  0.000000  0.000000  0.000000  0.000000   \n",
      "18          0.022857  0.090909  0.000000  0.000000  0.000000  0.000000   \n",
      "19          0.217143  0.181818  0.090909  0.071429  0.416667  0.071429   \n",
      "\n",
      "        ...        days    person  free  bill      view  party  housekeeping  \\\n",
      "0       ...         0.0  0.000000   0.0   0.0  0.000000    0.0         0.000   \n",
      "1       ...         0.0  0.000000   0.0   0.0  0.000000    0.0         0.000   \n",
      "2       ...         0.0  0.000000   0.0   0.0  0.000000    0.0         0.000   \n",
      "3       ...         0.0  0.000000   0.0   0.0  0.000000    0.0         0.000   \n",
      "4       ...         0.0  0.000000   0.2   0.0  0.000000    0.0         0.000   \n",
      "5       ...         0.0  0.000000   0.0   0.0  0.166667    0.0         0.000   \n",
      "6       ...         0.0  0.000000   0.0   0.0  0.000000    0.0         0.000   \n",
      "7       ...         0.0  0.000000   0.0   0.0  0.000000    0.0         0.000   \n",
      "8       ...         0.0  0.000000   0.0   0.0  0.000000    0.0         0.000   \n",
      "9       ...         0.0  0.000000   0.0   0.0  0.000000    0.0         0.000   \n",
      "10      ...         0.0  0.000000   0.0   0.0  0.166667    0.0         0.000   \n",
      "11      ...         0.0  0.000000   0.0   0.0  0.000000    0.0         0.000   \n",
      "12      ...         0.0  0.000000   0.0   0.0  0.000000    0.0         0.125   \n",
      "13      ...         0.0  0.000000   0.0   0.0  0.000000    0.0         0.000   \n",
      "14      ...         0.0  0.000000   0.0   0.0  0.000000    0.0         0.000   \n",
      "15      ...         0.0  0.000000   0.0   0.0  0.000000    0.0         0.000   \n",
      "16      ...         0.0  0.000000   0.0   0.0  0.000000    0.0         0.000   \n",
      "17      ...         0.0  0.000000   0.0   0.0  0.000000    0.0         0.000   \n",
      "18      ...         0.0  0.000000   0.0   0.0  0.000000    0.0         0.000   \n",
      "19      ...         0.0  0.166667   0.2   0.0  0.000000    0.0         0.000   \n",
      "\n",
      "    countsverbs  countsnouns  Overall_Label  \n",
      "0      0.014599     0.028481              1  \n",
      "1      0.031630     0.023734              1  \n",
      "2      0.019465     0.017405              1  \n",
      "3      0.012165     0.023734              1  \n",
      "4      0.029197     0.044304              0  \n",
      "5      0.099757     0.205696              1  \n",
      "6      0.021898     0.012658              1  \n",
      "7      0.012165     0.009494              1  \n",
      "8      0.058394     0.077532              1  \n",
      "9      0.026764     0.031646              1  \n",
      "10     0.143552     0.117089              1  \n",
      "11     0.009732     0.014241              1  \n",
      "12     0.024331     0.031646              1  \n",
      "13     0.063260     0.050633              1  \n",
      "14     0.053528     0.091772              1  \n",
      "15     0.180049     0.156646              1  \n",
      "16     0.131387     0.102848              1  \n",
      "17     0.031630     0.036392              1  \n",
      "18     0.012165     0.030063              1  \n",
      "19     0.163017     0.145570              1  \n",
      "\n",
      "[20 rows x 158 columns]\n"
     ]
    }
   ],
   "source": [
    "df1=df.iloc[:,1:]\n",
    "col=df.iloc[:,1:].values\n",
    "min_max_scaler = preprocessing.MinMaxScaler(feature_range=(0,1))#range(0,1)\n",
    "col_scaler=min_max_scaler.fit_transform(col)\n",
    "Normalized_df=pd.DataFrame(col_scaler, columns=df1.columns)\n",
    "Normalized_df['Overall_Label']=df['Overall_Label']\n",
    "print(Normalized_df.head(20))"
   ]
  },
  {
   "cell_type": "code",
   "execution_count": 7,
   "metadata": {},
   "outputs": [],
   "source": [
    "# 2/3 training and 1/3 test\n",
    "X, y=Normalized_df.iloc[:,:-1].values, Normalized_df['Overall_Label'].values\n",
    "X_train, X_test, y_train, y_test = train_test_split(X, y, test_size=0.33,random_state=None) "
   ]
  },
  {
   "cell_type": "code",
   "execution_count": 10,
   "metadata": {
    "scrolled": true
   },
   "outputs": [
    {
     "name": "stdout",
     "output_type": "stream",
     "text": [
      "Accuracy: 0.9491589491589492\n"
     ]
    }
   ],
   "source": [
    "# Linear Kernel\n",
    "svm = svm.SVC(kernel='linear', probability=True,random_state=0)\n",
    "svm.fit(X_train, y_train)\n",
    "y_pred = svm.predict(X_test)\n",
    "print(\"Accuracy:\",metrics.accuracy_score(y_test, y_pred))"
   ]
  },
  {
   "cell_type": "code",
   "execution_count": 11,
   "metadata": {},
   "outputs": [
    {
     "name": "stdout",
     "output_type": "stream",
     "text": [
      "[[   0  269]\n",
      " [   0 5022]]\n"
     ]
    }
   ],
   "source": [
    "Confusion_matrix=confusion_matrix(y_test, y_pred)\n",
    "print(Confusion_matrix)"
   ]
  },
  {
   "cell_type": "code",
   "execution_count": 12,
   "metadata": {},
   "outputs": [
    {
     "name": "stdout",
     "output_type": "stream",
     "text": [
      "[1.00015073 1.00016199 1.00010579 ... 1.00017133 1.00005972 1.00017203]\n"
     ]
    }
   ],
   "source": [
    "y_score = svm.fit(X_train, y_train).decision_function(X_test)\n",
    "print(y_score)"
   ]
  },
  {
   "cell_type": "code",
   "execution_count": 13,
   "metadata": {},
   "outputs": [],
   "source": [
    "fpr,tpr,threshold = roc_curve(y_test, y_score) \n",
    "roc_auc = auc(fpr,tpr)"
   ]
  },
  {
   "cell_type": "code",
   "execution_count": 14,
   "metadata": {},
   "outputs": [
    {
     "data": {
      "text/plain": [
       "<Figure size 432x288 with 0 Axes>"
      ]
     },
     "metadata": {},
     "output_type": "display_data"
    },
    {
     "data": {
      "image/png": "[encoded data removed]",
      "text/plain": [
       "<Figure size 720x720 with 1 Axes>"
      ]
     },
     "metadata": {},
     "output_type": "display_data"
    }
   ],
   "source": [
    "plt.figure()\n",
    "lw = 2\n",
    "plt.figure(figsize=(10,10))\n",
    "plt.plot(fpr, tpr, color='darkorange',\n",
    "         lw=lw, label='ROC curve (area = %0.2f)' % roc_auc) ###假正率为横坐标，真正率为纵坐标做曲线\n",
    "plt.plot([0, 1], [0, 1], color='navy', lw=lw, linestyle='--')\n",
    "plt.xlim([0.0, 1.0])\n",
    "plt.ylim([0.0, 1.05])\n",
    "plt.xlabel('False Positive Rate')\n",
    "plt.ylabel('True Positive Rate')\n",
    "plt.title('Receiver operating characteristic example')\n",
    "plt.legend(loc=\"lower right\")\n",
    "plt.show()"
   ]
  }
 ],
 "metadata": {
  "kernelspec": {
   "display_name": "Python 3",
   "language": "python",
   "name": "python3"
  },
  "language_info": {
   "codemirror_mode": {
    "name": "ipython",
    "version": 3
   },
   "file_extension": ".py",
   "mimetype": "text/x-python",
   "name": "python",
   "nbconvert_exporter": "python",
   "pygments_lexer": "ipython3",
   "version": "3.6.5"
  }
 },
 "nbformat": 4,
 "nbformat_minor": 2
}
